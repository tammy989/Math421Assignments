{
 "cells": [
  {
   "cell_type": "code",
   "execution_count": 1,
   "metadata": {},
   "outputs": [
    {
     "name": "stdout",
     "output_type": "stream",
     "text": [
      "'data.frame':\t5960 obs. of  13 variables:\n",
      " $ BAD    : int  1 1 1 1 0 1 1 1 1 1 ...\n",
      " $ LOAN   : int  1100 1300 1500 1500 1700 1700 1800 1800 2000 2000 ...\n",
      " $ MORTDUE: num  25860 70053 13500 NA 97800 ...\n",
      " $ VALUE  : num  39025 68400 16700 NA 112000 ...\n",
      " $ REASON : Factor w/ 3 levels \"\",\"DebtCon\",\"HomeImp\": 3 3 3 1 3 3 3 3 3 3 ...\n",
      " $ JOB    : Factor w/ 7 levels \"\",\"Mgr\",\"Office\",..: 4 4 4 1 3 4 4 4 4 6 ...\n",
      " $ YOJ    : num  10.5 7 4 NA 3 9 5 11 3 16 ...\n",
      " $ DEROG  : int  0 0 0 NA 0 0 3 0 0 0 ...\n",
      " $ DELINQ : int  0 2 0 NA 0 0 2 0 2 0 ...\n",
      " $ CLAGE  : num  94.4 121.8 149.5 NA 93.3 ...\n",
      " $ NINQ   : int  1 0 1 NA 0 1 1 0 1 0 ...\n",
      " $ CLNO   : int  9 14 10 NA 14 8 17 8 12 13 ...\n",
      " $ DEBTINC: num  NA NA NA NA NA ...\n"
     ]
    }
   ],
   "source": [
    "# Read in data\n",
    "hmeq = read.csv(\"C:/Users/student/Desktop/Senior/MATH 421 - R/Assignment/hmeq.csv\")\n",
    "str(hmeq)  #5960 obs with 13 variables"
   ]
  },
  {
   "cell_type": "code",
   "execution_count": 2,
   "metadata": {},
   "outputs": [
    {
     "data": {
      "text/html": [
       "4740"
      ],
      "text/latex": [
       "4740"
      ],
      "text/markdown": [
       "4740"
      ],
      "text/plain": [
       "[1] 4740"
      ]
     },
     "metadata": {},
     "output_type": "display_data"
    }
   ],
   "source": [
    "#change target variable type\n",
    "hmeq$BAD=as.factor(hmeq$BAD)\n",
    "sum(is.na(hmeq)) #there are 4740 missing values"
   ]
  },
  {
   "cell_type": "code",
   "execution_count": 3,
   "metadata": {},
   "outputs": [],
   "source": [
    "#quick clean the data by deleting obs with missing value\n",
    "hmeq[hmeq=='']=NA\n",
    "#complete.cases function only keeps obs without missing\n",
    "data=hmeq[complete.cases(hmeq),]"
   ]
  },
  {
   "cell_type": "code",
   "execution_count": 4,
   "metadata": {},
   "outputs": [
    {
     "data": {
      "text/plain": [
       "\n",
       "   0    1 \n",
       "3064  300 "
      ]
     },
     "metadata": {},
     "output_type": "display_data"
    }
   ],
   "source": [
    "#change target variable \"BAD\" to \"Target\"\n",
    "names(data)[1]='TARGET'\n",
    "table(data$TARGET) #only 300 obs repaid loan - imbalanced dataset "
   ]
  },
  {
   "cell_type": "code",
   "execution_count": 5,
   "metadata": {},
   "outputs": [
    {
     "name": "stderr",
     "output_type": "stream",
     "text": [
      "Loading required package: lattice\n",
      "Loading required package: ggplot2\n"
     ]
    }
   ],
   "source": [
    "#load in required package\n",
    "library(caret)\n",
    "library(ranger)"
   ]
  },
  {
   "cell_type": "code",
   "execution_count": 6,
   "metadata": {},
   "outputs": [],
   "source": [
    "#split data to 70% training and 30% testing\n",
    "set.seed(2018)\n",
    "splitIndex=createDataPartition(data$TARGET, p=.70, list=FALSE, times=1)\n",
    "train=data[splitIndex,]\n",
    "test=data[-splitIndex,]"
   ]
  },
  {
   "cell_type": "code",
   "execution_count": 7,
   "metadata": {},
   "outputs": [
    {
     "data": {
      "text/html": [
       "<strong>Accuracy:</strong> 0.946481665014866"
      ],
      "text/latex": [
       "\\textbf{Accuracy:} 0.946481665014866"
      ],
      "text/markdown": [
       "**Accuracy:** 0.946481665014866"
      ],
      "text/plain": [
       " Accuracy \n",
       "0.9464817 "
      ]
     },
     "metadata": {},
     "output_type": "display_data"
    },
    {
     "data": {
      "text/plain": [
       "\n",
       "         0          1 \n",
       "0.91082803 0.08917197 "
      ]
     },
     "metadata": {},
     "output_type": "display_data"
    }
   ],
   "source": [
    "#run model on original dataset\n",
    "forest1=ranger(TARGET~.,data=train)\n",
    "pred=predict(forest1,data=test)$predictions\n",
    "cm=confusionMatrix(pred,test$TARGET,positive=\"1\")\n",
    "cm$overall['Accuracy']\n",
    "orgAcc = cm$byClass['Balanced Accuracy']\n",
    "\n",
    "prop.table(table(train$TARGET))"
   ]
  },
  {
   "cell_type": "code",
   "execution_count": 9,
   "metadata": {},
   "outputs": [
    {
     "data": {
      "text/plain": [
       "\n",
       "  0   1 \n",
       "  0 210 "
      ]
     },
     "metadata": {},
     "output_type": "display_data"
    },
    {
     "data": {
      "text/plain": [
       "\n",
       "   0    1 \n",
       "2145    0 "
      ]
     },
     "metadata": {},
     "output_type": "display_data"
    }
   ],
   "source": [
    "#undersampling\n",
    "#train1 contians default loans\n",
    "train1=train[train$TARGET==\"1\",]\n",
    "n1=nrow(train1)\n",
    "table(train1$TARGET)\n",
    "\n",
    "#train2 contians repaid loans\n",
    "train0=train[train$TARGET==\"0\",]\n",
    "n0=nrow(train0)\n",
    "table(train0$TARGET)\n",
    "\n",
    "train00=train0[sample(1:n0,n1),]\n",
    "train_under=rbind(train00,train1)"
   ]
  },
  {
   "cell_type": "code",
   "execution_count": 11,
   "metadata": {},
   "outputs": [
    {
     "data": {
      "text/html": [
       "<strong>Balanced Accuracy:</strong> 0.800979325353645"
      ],
      "text/latex": [
       "\\textbf{Balanced Accuracy:} 0.800979325353645"
      ],
      "text/markdown": [
       "**Balanced Accuracy:** 0.800979325353645"
      ],
      "text/plain": [
       "Balanced Accuracy \n",
       "        0.8009793 "
      ]
     },
     "metadata": {},
     "output_type": "display_data"
    }
   ],
   "source": [
    "#test model using undersampled  dataset\n",
    "model_under=ranger(TARGET~.,data=train_under)\n",
    "pred_under=predict(model_under,data=test)$predictions\n",
    "cm_under=confusionMatrix(pred_under,test$TARGET,positive=\"1\")\n",
    "underAcc = cm_under$byClass['Balanced Accuracy']\n",
    "underAcc"
   ]
  },
  {
   "cell_type": "code",
   "execution_count": 13,
   "metadata": {},
   "outputs": [
    {
     "data": {
      "text/html": [
       "<strong>Balanced Accuracy:</strong> 0.765578527384839"
      ],
      "text/latex": [
       "\\textbf{Balanced Accuracy:} 0.765578527384839"
      ],
      "text/markdown": [
       "**Balanced Accuracy:** 0.765578527384839"
      ],
      "text/plain": [
       "Balanced Accuracy \n",
       "        0.7655785 "
      ]
     },
     "metadata": {},
     "output_type": "display_data"
    }
   ],
   "source": [
    "#oversampling\n",
    "train11 = train1[sample(1:n1, n0, replace = TRUE), ]\n",
    "train_over = rbind(train11, train0)\n",
    "#test model using oversampled dataset\n",
    "model_over=ranger(TARGET~.,data=train_over)\n",
    "pred_over=predict(model_over,data=test)$predictions\n",
    "cm_over=confusionMatrix(pred_over,test$TARGET,positive=\"1\")\n",
    "overAcc = cm_over$byClass['Balanced Accuracy']\n",
    "overAcc"
   ]
  },
  {
   "cell_type": "code",
   "execution_count": 17,
   "metadata": {},
   "outputs": [],
   "source": [
    "# Quick_bal: return balanced dataset\n",
    "Quick_bal = function(data, method)\n",
    "{\n",
    "  if(method==\"over\"){\n",
    "    \n",
    "    set.seed(2018)\n",
    "    splitIndex=createDataPartition(data$TARGET, p=.70, list=FALSE, times=1)\n",
    "    train=data[splitIndex,]\n",
    "    test=data[-splitIndex,]\n",
    "    \n",
    "    train1=train[train$TARGET==\"1\",]\n",
    "    n1=nrow(train1)\n",
    "    table(train1$TARGET)\n",
    "    \n",
    "    train0=train[train$TARGET==\"0\",]\n",
    "    n0=nrow(train0)\n",
    "    table(train0$TARGET)\n",
    "    \n",
    "    train11 = train1[sample(1:n1, n0, replace = TRUE), ]\n",
    "    balanced = rbind(train11, train0)\n",
    "    \n",
    "  }\n",
    "   else if(method==\"under\"){\n",
    "    \n",
    "    set.seed(2018)\n",
    "    splitIndex=createDataPartition(data$TARGET, p=.70, list=FALSE, times=1)\n",
    "    train=data[splitIndex,]\n",
    "    test=data[-splitIndex,]\n",
    "    \n",
    "    train1=train[train$TARGET==\"1\",]\n",
    "    n1=nrow(train1)\n",
    "    table(train1$TARGET)\n",
    "    \n",
    "    train0=train[train$TARGET==\"0\",]\n",
    "    n0=nrow(train0)\n",
    "    table(train0$TARGET)\n",
    "    \n",
    "    train00=train0[sample(1:n0,n1),]\n",
    "    balanced =rbind(train00,train1)\n",
    "    \n",
    "  }\n",
    "  else {\n",
    "    print(\"Please pick under or over sampling method\")\n",
    "  }\n",
    "}"
   ]
  },
  {
   "cell_type": "code",
   "execution_count": 18,
   "metadata": {},
   "outputs": [
    {
     "data": {
      "text/html": [
       "4290"
      ],
      "text/latex": [
       "4290"
      ],
      "text/markdown": [
       "4290"
      ],
      "text/plain": [
       "[1] 4290"
      ]
     },
     "metadata": {},
     "output_type": "display_data"
    }
   ],
   "source": [
    "#testing to make sure it works\n",
    "balanced = Quick_bal(data,\"over\")\n",
    "nrow(balanced)"
   ]
  },
  {
   "cell_type": "code",
   "execution_count": 19,
   "metadata": {},
   "outputs": [],
   "source": [
    "#Quick_model_bal function return balanced accuracy after data being balanced\n",
    "Quick_model_bal = function (data, method){\n",
    "  balanced = Quick_bal(data, method)\n",
    "  model=ranger(TARGET~.,data=balanced)\n",
    "  pred=predict(model,data=test)$predictions\n",
    "  cm=confusionMatrix(pred,test$TARGET,positive=\"1\")\n",
    "  Acc = cm$byClass['Balanced Accuracy']\n",
    "  Acc\n",
    "}"
   ]
  },
  {
   "cell_type": "code",
   "execution_count": 20,
   "metadata": {},
   "outputs": [
    {
     "data": {
      "text/html": [
       "<strong>Balanced Accuracy:</strong> 0.732245194051505"
      ],
      "text/latex": [
       "\\textbf{Balanced Accuracy:} 0.732245194051505"
      ],
      "text/markdown": [
       "**Balanced Accuracy:** 0.732245194051505"
      ],
      "text/plain": [
       "Balanced Accuracy \n",
       "        0.7322452 "
      ]
     },
     "metadata": {},
     "output_type": "display_data"
    }
   ],
   "source": [
    "#testing \n",
    "Quick_model_bal (data,\"over\")"
   ]
  },
  {
   "cell_type": "code",
   "execution_count": null,
   "metadata": {},
   "outputs": [],
   "source": []
  }
 ],
 "metadata": {
  "kernelspec": {
   "display_name": "R",
   "language": "R",
   "name": "ir"
  },
  "language_info": {
   "codemirror_mode": "r",
   "file_extension": ".r",
   "mimetype": "text/x-r-source",
   "name": "R",
   "pygments_lexer": "r",
   "version": "3.5.1"
  }
 },
 "nbformat": 4,
 "nbformat_minor": 2
}
