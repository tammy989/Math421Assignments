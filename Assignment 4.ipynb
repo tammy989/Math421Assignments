{
 "cells": [
  {
   "cell_type": "code",
   "execution_count": 1,
   "metadata": {},
   "outputs": [
    {
     "data": {
      "text/html": [
       "11"
      ],
      "text/latex": [
       "11"
      ],
      "text/markdown": [
       "11"
      ],
      "text/plain": [
       "[1] 11"
      ]
     },
     "metadata": {},
     "output_type": "display_data"
    },
    {
     "data": {
      "text/html": [
       "945"
      ],
      "text/latex": [
       "945"
      ],
      "text/markdown": [
       "945"
      ],
      "text/plain": [
       "[1] 945"
      ]
     },
     "metadata": {},
     "output_type": "display_data"
    },
    {
     "data": {
      "text/html": [
       "<ol class=list-inline>\n",
       "\t<li>3</li>\n",
       "\t<li>10</li>\n",
       "\t<li>5</li>\n",
       "\t<li>3</li>\n",
       "</ol>\n"
      ],
      "text/latex": [
       "\\begin{enumerate*}\n",
       "\\item 3\n",
       "\\item 10\n",
       "\\item 5\n",
       "\\item 3\n",
       "\\end{enumerate*}\n"
      ],
      "text/markdown": [
       "1. 3\n",
       "2. 10\n",
       "3. 5\n",
       "4. 3\n",
       "\n",
       "\n"
      ],
      "text/plain": [
       "[1]  3 10  5  3"
      ]
     },
     "metadata": {},
     "output_type": "display_data"
    },
    {
     "data": {
      "text/html": [
       "<ol class=list-inline>\n",
       "\t<li>3</li>\n",
       "\t<li>10</li>\n",
       "\t<li>5</li>\n",
       "\t<li>6</li>\n",
       "</ol>\n"
      ],
      "text/latex": [
       "\\begin{enumerate*}\n",
       "\\item 3\n",
       "\\item 10\n",
       "\\item 5\n",
       "\\item 6\n",
       "\\end{enumerate*}\n"
      ],
      "text/markdown": [
       "1. 3\n",
       "2. 10\n",
       "3. 5\n",
       "4. 6\n",
       "\n",
       "\n"
      ],
      "text/plain": [
       "[1]  3 10  5  6"
      ]
     },
     "metadata": {},
     "output_type": "display_data"
    },
    {
     "data": {
      "text/html": [
       "0"
      ],
      "text/latex": [
       "0"
      ],
      "text/markdown": [
       "0"
      ],
      "text/plain": [
       "[1] 0"
      ]
     },
     "metadata": {},
     "output_type": "display_data"
    },
    {
     "data": {},
     "metadata": {},
     "output_type": "display_data"
    },
    {
     "data": {},
     "metadata": {},
     "output_type": "display_data"
    },
    {
     "data": {
      "image/png": "[encoded data removed]",
      "text/plain": [
       "plot without title"
      ]
     },
     "metadata": {},
     "output_type": "display_data",
     "source": "R display func"
    },
    {
     "data": {
      "image/png": "[encoded data removed]",
      "text/plain": [
       "plot without title"
      ]
     },
     "metadata": {},
     "output_type": "display_data",
     "source": "R display func"
    }
   ],
   "source": [
    "\n",
    "df = read.csv(\"C:/Users/student/Desktop/Senior/MATH 421 - R/assignment/train.csv\")\n",
    "#correct data type\n",
    "df$Survived = factor(df$Survived)\n",
    "df$Pclass = factor(df$Pclass)\n",
    "library(ggplot2)\n",
    "\n",
    "cal = function(x){\n",
    "  y = x^2 + 3*x + 1\n",
    "  return (y)\n",
    "}\n",
    "#testing\n",
    "cal(2)\n",
    "\n",
    "v1 = seq(1, 10, by = 2)\n",
    "product = function(x){\n",
    "  prod(x)\n",
    "}\n",
    "product(v1)\n",
    "\n",
    "v2 = c(3, 10, 5, NA)\n",
    "replace1 = function(v, n)\n",
    "{\n",
    "  v[is.na(v)]=n\n",
    "  return(v)\n",
    "}\n",
    "replace1(v2, 3)\n",
    "\n",
    "v2 = c(3, 10, 5, NA)\n",
    "replace2 = function(v)\n",
    "{\n",
    "  v[is.na(v)]=mean(v, na.rm = TRUE)\n",
    "  return(v)\n",
    "}\n",
    "replace2(v2)\n",
    "\n",
    "replace3 = function(data)\n",
    "{\n",
    "  for (i in 1:ncol(data)){\n",
    "    if (class(data[, i]) != \"factor\") \n",
    "    {  #add condition so only numeric missin values will be replaced by mean\n",
    "      data[,i][is.na(data[,i])]= mean(data[[i]], na.rm = TRUE)   \n",
    "    }\n",
    "  }\n",
    "} \n",
    "new = replace3(df)\n",
    "#check the missing value is gone\n",
    "sum(is.na(new$Age))\n",
    "\n",
    "plotbar1 = function(data, varname)\n",
    " {\n",
    "  ggplot(data) + geom_bar(mapping = aes(x = varname))\n",
    " }\n",
    "plotbar1(df, df$Survived)\n",
    "\n",
    "plotbar2 = function(d, x , y)\n",
    "{\n",
    "  graph = ggplot(data = d) + geom_bar(mapping = aes(x = x, fill = y), position = 'dodge')\n",
    "  return(graph)\n",
    "}\n",
    "plotbar2(df, df$Sex, df$Survived)\n",
    "\n",
    "\n"
   ]
  },
  {
   "cell_type": "code",
   "execution_count": null,
   "metadata": {},
   "outputs": [],
   "source": []
  }
 ],
 "metadata": {
  "kernelspec": {
   "display_name": "R",
   "language": "R",
   "name": "ir"
  },
  "language_info": {
   "codemirror_mode": "r",
   "file_extension": ".r",
   "mimetype": "text/x-r-source",
   "name": "R",
   "pygments_lexer": "r",
   "version": "3.5.1"
  }
 },
 "nbformat": 4,
 "nbformat_minor": 2
}
