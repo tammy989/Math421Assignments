{
 "cells": [
  {
   "cell_type": "code",
   "execution_count": 1,
   "metadata": {},
   "outputs": [
    {
     "name": "stdout",
     "output_type": "stream",
     "text": [
      "'data.frame':\t32561 obs. of  15 variables:\n",
      " $ V1 : int  39 50 38 53 28 37 49 52 31 42 ...\n",
      " $ V2 : Factor w/ 9 levels \" ?\",\" Federal-gov\",..: 8 7 5 5 5 5 5 7 5 5 ...\n",
      " $ V3 : int  77516 83311 215646 234721 338409 284582 160187 209642 45781 159449 ...\n",
      " $ V4 : Factor w/ 16 levels \" 10th\",\" 11th\",..: 10 10 12 2 10 13 7 12 13 10 ...\n",
      " $ V5 : int  13 13 9 7 13 14 5 9 14 13 ...\n",
      " $ V6 : Factor w/ 7 levels \" Divorced\",\" Married-AF-spouse\",..: 5 3 1 3 3 3 4 3 5 3 ...\n",
      " $ V7 : Factor w/ 15 levels \" ?\",\" Adm-clerical\",..: 2 5 7 7 11 5 9 5 11 5 ...\n",
      " $ V8 : Factor w/ 6 levels \" Husband\",\" Not-in-family\",..: 2 1 2 1 6 6 2 1 2 1 ...\n",
      " $ V9 : Factor w/ 5 levels \" Amer-Indian-Eskimo\",..: 5 5 5 3 3 5 3 5 5 5 ...\n",
      " $ V10: Factor w/ 2 levels \" Female\",\" Male\": 2 2 2 2 1 1 1 2 1 2 ...\n",
      " $ V11: int  2174 0 0 0 0 0 0 0 14084 5178 ...\n",
      " $ V12: int  0 0 0 0 0 0 0 0 0 0 ...\n",
      " $ V13: int  40 13 40 40 40 40 16 45 50 40 ...\n",
      " $ V14: Factor w/ 42 levels \" ?\",\" Cambodia\",..: 40 40 40 40 6 40 24 40 40 40 ...\n",
      " $ V15: Factor w/ 2 levels \" <=50K\",\" >50K\": 1 1 1 1 1 1 1 2 2 2 ...\n",
      "'data.frame':\t32561 obs. of  15 variables:\n",
      " $ age           : int  39 50 38 53 28 37 49 52 31 42 ...\n",
      " $ workclass     : Factor w/ 9 levels \" ?\",\" Federal-gov\",..: 8 7 5 5 5 5 5 7 5 5 ...\n",
      " $ fnlwgt        : int  77516 83311 215646 234721 338409 284582 160187 209642 45781 159449 ...\n",
      " $ education     : Factor w/ 16 levels \" 10th\",\" 11th\",..: 10 10 12 2 10 13 7 12 13 10 ...\n",
      " $ education-num : int  13 13 9 7 13 14 5 9 14 13 ...\n",
      " $ marital-status: Factor w/ 7 levels \" Divorced\",\" Married-AF-spouse\",..: 5 3 1 3 3 3 4 3 5 3 ...\n",
      " $ occupation    : Factor w/ 15 levels \" ?\",\" Adm-clerical\",..: 2 5 7 7 11 5 9 5 11 5 ...\n",
      " $ relationship  : Factor w/ 6 levels \" Husband\",\" Not-in-family\",..: 2 1 2 1 6 6 2 1 2 1 ...\n",
      " $ race          : Factor w/ 5 levels \" Amer-Indian-Eskimo\",..: 5 5 5 3 3 5 3 5 5 5 ...\n",
      " $ sex           : Factor w/ 2 levels \" Female\",\" Male\": 2 2 2 2 1 1 1 2 1 2 ...\n",
      " $ capital-gain  : int  2174 0 0 0 0 0 0 0 14084 5178 ...\n",
      " $ capital-loss  : int  0 0 0 0 0 0 0 0 0 0 ...\n",
      " $ hours-per-week: int  40 13 40 40 40 40 16 45 50 40 ...\n",
      " $ native-country: Factor w/ 42 levels \" ?\",\" Cambodia\",..: 40 40 40 40 6 40 24 40 40 40 ...\n",
      " $ target        : Factor w/ 2 levels \" <=50K\",\" >50K\": 1 1 1 1 1 1 1 2 2 2 ...\n",
      "[1] \"age\" \"0\"  \n",
      "[1] \"workclass\" \"1836\"     \n",
      "[1] \"fnlwgt\" \"0\"     \n",
      "[1] \"education\" \"0\"        \n",
      "[1] \"education-num\" \"0\"            \n",
      "[1] \"marital-status\" \"0\"             \n",
      "[1] \"occupation\" \"1843\"      \n",
      "[1] \"relationship\" \"0\"           \n",
      "[1] \"race\" \"0\"   \n",
      "[1] \"sex\" \"0\"  \n",
      "[1] \"capital-gain\" \"0\"           \n",
      "[1] \"capital-loss\" \"0\"           \n",
      "[1] \"hours-per-week\" \"0\"             \n",
      "[1] \"native-country\" \"583\"           \n",
      "[1] \"target\" \"0\"     \n"
     ]
    },
    {
     "data": {
      "text/html": [
       "4262"
      ],
      "text/latex": [
       "4262"
      ],
      "text/markdown": [
       "4262"
      ],
      "text/plain": [
       "[1] 4262"
      ]
     },
     "metadata": {},
     "output_type": "display_data"
    },
    {
     "data": {
      "text/html": [
       "0"
      ],
      "text/latex": [
       "0"
      ],
      "text/markdown": [
       "0"
      ],
      "text/plain": [
       "[1] 0"
      ]
     },
     "metadata": {},
     "output_type": "display_data"
    },
    {
     "data": {
      "image/png": "[encoded data removed]",
      "text/plain": [
       "plot without title"
      ]
     },
     "metadata": {},
     "output_type": "display_data",
     "source": "R display func"
    },
    {
     "name": "stderr",
     "output_type": "stream",
     "text": [
      "Loading required package: lattice\n"
     ]
    },
    {
     "name": "stdout",
     "output_type": "stream",
     "text": [
      "[1] 1.500077\n"
     ]
    },
    {
     "data": {
      "text/html": [
       "<dl class=dl-horizontal>\n",
       "\t<dt>1</dt>\n",
       "\t\t<dd> &lt;=50K</dd>\n",
       "\t<dt>4</dt>\n",
       "\t\t<dd> &lt;=50K</dd>\n",
       "\t<dt>7</dt>\n",
       "\t\t<dd> &lt;=50K</dd>\n",
       "\t<dt>9</dt>\n",
       "\t\t<dd> &gt;50K</dd>\n",
       "\t<dt>10</dt>\n",
       "\t\t<dd> &gt;50K</dd>\n",
       "\t<dt>12</dt>\n",
       "\t\t<dd> &gt;50K</dd>\n",
       "</dl>\n",
       "\n",
       "<details>\n",
       "\t<summary style=display:list-item;cursor:pointer>\n",
       "\t\t<strong>Levels</strong>:\n",
       "\t</summary>\n",
       "\t<ol class=list-inline>\n",
       "\t\t<li>' &lt;=50K'</li>\n",
       "\t\t<li>' &gt;50K'</li>\n",
       "\t</ol>\n",
       "</details>"
      ],
      "text/latex": [
       "\\begin{description*}\n",
       "\\item[1]  <=50K\n",
       "\\item[4]  <=50K\n",
       "\\item[7]  <=50K\n",
       "\\item[9]  >50K\n",
       "\\item[10]  >50K\n",
       "\\item[12]  >50K\n",
       "\\end{description*}\n",
       "\n",
       "\\emph{Levels}: \\begin{enumerate*}\n",
       "\\item ' <=50K'\n",
       "\\item ' >50K'\n",
       "\\end{enumerate*}\n"
      ],
      "text/markdown": [
       "1\n",
       ":    &lt;=50K4\n",
       ":    &lt;=50K7\n",
       ":    &lt;=50K9\n",
       ":    &gt;50K10\n",
       ":    &gt;50K12\n",
       ":    &gt;50K\n",
       "\n",
       "\n",
       "**Levels**: 1. ' &lt;=50K'\n",
       "2. ' &gt;50K'\n",
       "\n",
       "\n"
      ],
      "text/plain": [
       "     1      4      7      9     10     12 \n",
       " <=50K  <=50K  <=50K   >50K   >50K   >50K \n",
       "Levels:  <=50K  >50K"
      ]
     },
     "metadata": {},
     "output_type": "display_data"
    },
    {
     "data": {
      "text/plain": [
       "Confusion Matrix and Statistics\n",
       "\n",
       "          Reference\n",
       "Prediction  <=50K  >50K\n",
       "     <=50K   9394  1544\n",
       "     >50K     494  1592\n",
       "                                          \n",
       "               Accuracy : 0.8435          \n",
       "                 95% CI : (0.8372, 0.8497)\n",
       "    No Information Rate : 0.7592          \n",
       "    P-Value [Acc > NIR] : < 2.2e-16       \n",
       "                                          \n",
       "                  Kappa : 0.5168          \n",
       " Mcnemar's Test P-Value : < 2.2e-16       \n",
       "                                          \n",
       "            Sensitivity : 0.5077          \n",
       "            Specificity : 0.9500          \n",
       "         Pos Pred Value : 0.7632          \n",
       "         Neg Pred Value : 0.8588          \n",
       "             Prevalence : 0.2408          \n",
       "         Detection Rate : 0.1222          \n",
       "   Detection Prevalence : 0.1602          \n",
       "      Balanced Accuracy : 0.7288          \n",
       "                                          \n",
       "       'Positive' Class :  >50K           \n",
       "                                          "
      ]
     },
     "metadata": {},
     "output_type": "display_data"
    },
    {
     "name": "stderr",
     "output_type": "stream",
     "text": [
      "Rattle: A free graphical interface for data science with R.\n",
      "Version 5.2.0 Copyright (c) 2006-2018 Togaware Pty Ltd.\n",
      "Type 'rattle()' to shake, rattle, and roll your data.\n"
     ]
    },
    {
     "data": {
      "image/png": "[encoded data removed]",
      "text/plain": [
       "plot without title"
      ]
     },
     "metadata": {},
     "output_type": "display_data",
     "source": "R display func"
    },
    {
     "name": "stdout",
     "output_type": "stream",
     "text": [
      "[1] 0.7\n",
      "Confusion Matrix and Statistics\n",
      "\n",
      "          Reference\n",
      "Prediction  <=50K  >50K\n",
      "     <=50K   7033  1138\n",
      "     >50K     383  1214\n",
      "                                          \n",
      "               Accuracy : 0.8443          \n",
      "                 95% CI : (0.8369, 0.8514)\n",
      "    No Information Rate : 0.7592          \n",
      "    P-Value [Acc > NIR] : < 2.2e-16       \n",
      "                                          \n",
      "                  Kappa : 0.5217          \n",
      " Mcnemar's Test P-Value : < 2.2e-16       \n",
      "                                          \n",
      "            Sensitivity : 0.5162          \n",
      "            Specificity : 0.9484          \n",
      "         Pos Pred Value : 0.7602          \n",
      "         Neg Pred Value : 0.8607          \n",
      "             Prevalence : 0.2408          \n",
      "         Detection Rate : 0.1243          \n",
      "   Detection Prevalence : 0.1635          \n",
      "      Balanced Accuracy : 0.7323          \n",
      "                                          \n",
      "       'Positive' Class :  >50K           \n",
      "                                          \n"
     ]
    },
    {
     "data": {
      "image/png": "[encoded data removed]",
      "text/plain": [
       "Plot with title \"\""
      ]
     },
     "metadata": {},
     "output_type": "display_data",
     "source": "R display func"
    },
    {
     "data": {
      "image/png": "[encoded data removed]",
      "text/plain": [
       "Plot with title \"\""
      ]
     },
     "metadata": {},
     "output_type": "display_data",
     "source": "R display func"
    }
   ],
   "source": [
    "\n",
    "adult = read.csv(\"C:/Users/student/Desktop/Senior/MATH 421 - R/assignment/adult data.csv\", header = FALSE)\n",
    "str(adult)\n",
    "\n",
    "names(adult) = c(\"age\", \"workclass\", \"fnlwgt\", \"education\", \"education-num\", \"marital-status\", \"occupation\", \"relationship\", \"race\", \"sex\", \"capital-gain\", \"capital-loss\", \"hours-per-week\", \"native-country\", \"target\")\n",
    "str(adult)\n",
    "\n",
    "adult[adult == \" ?\"] = NA\n",
    "\n",
    "for (i in 1:ncol(adult)){\n",
    "      print(c(names(adult)[i],sum(is.na(adult[i]))))\n",
    "}\n",
    "\n",
    "\n",
    "handlemiss = function(data)\n",
    "{\n",
    "  for (i in 1:ncol(data)){\n",
    "    if (class(data[, i]) != \"factor\") \n",
    "    { \n",
    "      data[,i][is.na(data[,i])]= mean(data[,i], na.rm = TRUE)   \n",
    "    } else {\n",
    "      levels=unique(data[,i])\n",
    "      data[,i][is.na(data[,i])]=levels[which.max(tabulate(match(data[,i], levels)))]\n",
    "    } \n",
    "  }\n",
    "  return(data)\n",
    "}\n",
    "newdata = handlemiss(adult)\n",
    "sum(is.na(adult))\n",
    "sum(is.na(newdata))\n",
    "\n",
    "\n",
    "library(ggplot2)\n",
    "bar = ggplot() + geom_bar(adult, mapping = aes(x = target, fill = sex), position = \"dodge\")\n",
    "print(bar)\n",
    "den = ggplot() + geom_density(adult, mapping = aes(x = age, color = sex))\n",
    "print(den)\n",
    "\n",
    "\n",
    "library(caret)\n",
    "splitIndex <- createDataPartition(adult$target, p = .60, list = FALSE, times = 1)\n",
    "train <- adult[ splitIndex,]\n",
    "test <- adult[-splitIndex,]\n",
    "print(nrow(train)/nrow(test))  #just to proof train is 1.5 times bigger than testing dataset (60/40)\n",
    "\n",
    "\n",
    "library(rpart) \n",
    "mytree <- rpart(target ~ ., data = train, method = \"class\")\n",
    "pred <- predict(mytree,test, type = \"class\")\n",
    "head(pred)\n",
    "\n",
    "\n",
    "\n",
    "cm=confusionMatrix(pred, test$target, positive = \" >50K\")\n",
    "cm\n",
    "\n",
    "\n",
    "library(rattle)\n",
    "fancyRpartPlot(mytree)\n",
    "\n",
    "\n",
    "#error ignore it\n",
    "#model <- train(target ~.,data =train, method = \"rpart\")\n",
    "#pred2=predict(model,test)\n",
    "\n",
    "#cm2=confusionMatrix(pred2, test$target, positive=\" >50K\")\n",
    "#cm2\n",
    "\n",
    "\n",
    "decisiontree = function(df, n){\n",
    "\n",
    "#assume target variable name \"target\"\n",
    "\n",
    "splitIndex <- createDataPartition(df$target, p = n, list = FALSE, times = 1)\n",
    "train <- adult[ splitIndex,]\n",
    "test <- adult[-splitIndex,]\n",
    "\n",
    "\n",
    "mytree <- rpart(target ~ ., data = train, method = \"class\")\n",
    "pred <- predict(mytree,test, type = \"class\")\n",
    "\n",
    "cm=confusionMatrix(pred, test$target, positive = \" >50K\")\n",
    "\n",
    "print(n)\n",
    "print(cm)\n",
    "fancyRpartPlot(mytree)\n",
    "\n",
    "}\n",
    "\n",
    "decisiontree(adult, .7)\n",
    "\n",
    "\n",
    "\n"
   ]
  },
  {
   "cell_type": "code",
   "execution_count": null,
   "metadata": {},
   "outputs": [],
   "source": []
  }
 ],
 "metadata": {
  "kernelspec": {
   "display_name": "R",
   "language": "R",
   "name": "ir"
  },
  "language_info": {
   "codemirror_mode": "r",
   "file_extension": ".r",
   "mimetype": "text/x-r-source",
   "name": "R",
   "pygments_lexer": "r",
   "version": "3.5.1"
  }
 },
 "nbformat": 4,
 "nbformat_minor": 2
}
