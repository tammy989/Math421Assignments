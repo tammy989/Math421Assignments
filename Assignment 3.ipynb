{
 "cells": [
  {
   "cell_type": "code",
   "execution_count": 1,
   "metadata": {},
   "outputs": [
    {
     "data": {
      "text/html": [
       "177"
      ],
      "text/latex": [
       "177"
      ],
      "text/markdown": [
       "177"
      ],
      "text/plain": [
       "[1] 177"
      ]
     },
     "metadata": {},
     "output_type": "display_data"
    },
    {
     "name": "stdout",
     "output_type": "stream",
     "text": [
      "'data.frame':\t891 obs. of  12 variables:\n",
      " $ PassengerId: int  1 2 3 4 5 6 7 8 9 10 ...\n",
      " $ Survived   : Factor w/ 2 levels \"0\",\"1\": 1 2 2 2 1 1 1 1 2 2 ...\n",
      " $ Pclass     : Factor w/ 3 levels \"1\",\"2\",\"3\": 3 1 3 1 3 3 1 3 3 2 ...\n",
      " $ Name       : Factor w/ 891 levels \"Abbing, Mr. Anthony\",..: 109 191 358 277 16 559 520 629 417 581 ...\n",
      " $ Sex        : Factor w/ 2 levels \"female\",\"male\": 2 1 1 1 2 2 2 2 1 1 ...\n",
      " $ Age        : num  22 38 26 35 35 NA 54 2 27 14 ...\n",
      " $ SibSp      : int  1 1 0 1 0 0 0 3 0 1 ...\n",
      " $ Parch      : int  0 0 0 0 0 0 0 1 2 0 ...\n",
      " $ Ticket     : Factor w/ 681 levels \"110152\",\"110413\",..: 524 597 670 50 473 276 86 396 345 133 ...\n",
      " $ Fare       : num  7.25 71.28 7.92 53.1 8.05 ...\n",
      " $ Cabin      : Factor w/ 148 levels \"\",\"A10\",\"A14\",..: 1 83 1 57 1 1 131 1 1 1 ...\n",
      " $ Embarked   : Factor w/ 4 levels \"\",\"C\",\"Q\",\"S\": 4 2 4 4 4 3 4 4 4 2 ...\n"
     ]
    },
    {
     "data": {
      "text/html": [
       "0"
      ],
      "text/latex": [
       "0"
      ],
      "text/markdown": [
       "0"
      ],
      "text/plain": [
       "[1] 0"
      ]
     },
     "metadata": {},
     "output_type": "display_data"
    },
    {
     "data": {
      "text/html": [
       "177"
      ],
      "text/latex": [
       "177"
      ],
      "text/markdown": [
       "177"
      ],
      "text/plain": [
       "[1] 177"
      ]
     },
     "metadata": {},
     "output_type": "display_data"
    },
    {
     "data": {
      "text/html": [
       "0"
      ],
      "text/latex": [
       "0"
      ],
      "text/markdown": [
       "0"
      ],
      "text/plain": [
       "[1] 0"
      ]
     },
     "metadata": {},
     "output_type": "display_data"
    },
    {
     "data": {
      "text/html": [
       "0"
      ],
      "text/latex": [
       "0"
      ],
      "text/markdown": [
       "0"
      ],
      "text/plain": [
       "[1] 0"
      ]
     },
     "metadata": {},
     "output_type": "display_data"
    },
    {
     "data": {
      "text/html": [
       "0"
      ],
      "text/latex": [
       "0"
      ],
      "text/markdown": [
       "0"
      ],
      "text/plain": [
       "[1] 0"
      ]
     },
     "metadata": {},
     "output_type": "display_data"
    },
    {
     "data": {
      "text/html": [
       "0"
      ],
      "text/latex": [
       "0"
      ],
      "text/markdown": [
       "0"
      ],
      "text/plain": [
       "[1] 0"
      ]
     },
     "metadata": {},
     "output_type": "display_data"
    },
    {
     "data": {
      "text/html": [
       "0"
      ],
      "text/latex": [
       "0"
      ],
      "text/markdown": [
       "0"
      ],
      "text/plain": [
       "[1] 0"
      ]
     },
     "metadata": {},
     "output_type": "display_data"
    },
    {
     "data": {
      "text/html": [
       "0"
      ],
      "text/latex": [
       "0"
      ],
      "text/markdown": [
       "0"
      ],
      "text/plain": [
       "[1] 0"
      ]
     },
     "metadata": {},
     "output_type": "display_data"
    },
    {
     "data": {
      "text/html": [
       "0"
      ],
      "text/latex": [
       "0"
      ],
      "text/markdown": [
       "0"
      ],
      "text/plain": [
       "[1] 0"
      ]
     },
     "metadata": {},
     "output_type": "display_data"
    },
    {
     "data": {
      "text/html": [
       "0"
      ],
      "text/latex": [
       "0"
      ],
      "text/markdown": [
       "0"
      ],
      "text/plain": [
       "[1] 0"
      ]
     },
     "metadata": {},
     "output_type": "display_data"
    },
    {
     "data": {
      "text/html": [
       "0"
      ],
      "text/latex": [
       "0"
      ],
      "text/markdown": [
       "0"
      ],
      "text/plain": [
       "[1] 0"
      ]
     },
     "metadata": {},
     "output_type": "display_data"
    },
    {
     "data": {
      "text/html": [
       "0"
      ],
      "text/latex": [
       "0"
      ],
      "text/markdown": [
       "0"
      ],
      "text/plain": [
       "[1] 0"
      ]
     },
     "metadata": {},
     "output_type": "display_data"
    },
    {
     "data": {
      "text/html": [
       "0"
      ],
      "text/latex": [
       "0"
      ],
      "text/markdown": [
       "0"
      ],
      "text/plain": [
       "[1] 0"
      ]
     },
     "metadata": {},
     "output_type": "display_data"
    },
    {
     "data": {
      "text/html": [
       "687"
      ],
      "text/latex": [
       "687"
      ],
      "text/markdown": [
       "687"
      ],
      "text/plain": [
       "[1] 687"
      ]
     },
     "metadata": {},
     "output_type": "display_data"
    },
    {
     "data": {
      "text/html": [
       "2"
      ],
      "text/latex": [
       "2"
      ],
      "text/markdown": [
       "2"
      ],
      "text/plain": [
       "[1] 2"
      ]
     },
     "metadata": {},
     "output_type": "display_data"
    },
    {
     "name": "stdout",
     "output_type": "stream",
     "text": [
      "'data.frame':\t202 obs. of  12 variables:\n",
      " $ PassengerId: int  2 4 7 11 12 22 24 28 32 53 ...\n",
      " $ Survived   : Factor w/ 2 levels \"0\",\"1\": 2 2 1 2 2 2 2 1 2 2 ...\n",
      " $ Pclass     : Factor w/ 3 levels \"1\",\"2\",\"3\": 1 1 1 3 1 2 1 1 1 1 ...\n",
      " $ Name       : Factor w/ 891 levels \"Abbing, Mr. Anthony\",..: 191 277 520 732 96 81 770 265 781 338 ...\n",
      " $ Sex        : Factor w/ 2 levels \"female\",\"male\": 1 1 2 1 1 2 2 2 1 1 ...\n",
      " $ Age        : num  38 35 54 4 58 ...\n",
      " $ SibSp      : int  1 1 0 1 0 0 0 3 1 1 ...\n",
      " $ Parch      : int  0 0 0 1 0 0 0 2 0 0 ...\n",
      " $ Ticket     : Factor w/ 681 levels \"110152\",\"110413\",..: 597 50 86 617 39 153 43 96 587 588 ...\n",
      " $ Fare       : num  71.3 53.1 51.9 16.7 26.6 ...\n",
      " $ Cabin      : Factor w/ 148 levels \"\",\"A10\",\"A14\",..: 83 57 131 147 51 113 15 65 43 103 ...\n",
      " $ Embarked   : Factor w/ 4 levels \"\",\"C\",\"Q\",\"S\": 2 4 4 4 4 4 4 4 2 2 ...\n",
      "'data.frame':\t202 obs. of  10 variables:\n",
      " $ PassengerId: int  2 4 7 11 12 22 24 28 32 53 ...\n",
      " $ Survived   : Factor w/ 2 levels \"0\",\"1\": 2 2 1 2 2 2 2 1 2 2 ...\n",
      " $ Pclass     : Factor w/ 3 levels \"1\",\"2\",\"3\": 1 1 1 3 1 2 1 1 1 1 ...\n",
      " $ Sex        : Factor w/ 2 levels \"female\",\"male\": 1 1 2 1 1 2 2 2 1 1 ...\n",
      " $ Age        : num  38 35 54 4 58 ...\n",
      " $ SibSp      : int  1 1 0 1 0 0 0 3 1 1 ...\n",
      " $ Parch      : int  0 0 0 1 0 0 0 2 0 0 ...\n",
      " $ Ticket     : Factor w/ 681 levels \"110152\",\"110413\",..: 597 50 86 617 39 153 43 96 587 588 ...\n",
      " $ Fare       : num  71.3 53.1 51.9 16.7 26.6 ...\n",
      " $ Embarked   : Factor w/ 4 levels \"\",\"C\",\"Q\",\"S\": 2 4 4 4 4 4 4 4 2 2 ...\n"
     ]
    },
    {
     "data": {
      "text/html": [
       "35.1123922539313"
      ],
      "text/latex": [
       "35.1123922539313"
      ],
      "text/markdown": [
       "35.1123922539313"
      ],
      "text/plain": [
       "[1] 35.11239"
      ]
     },
     "metadata": {},
     "output_type": "display_data"
    },
    {
     "data": {
      "text/html": [
       "32.4567770897833"
      ],
      "text/latex": [
       "32.4567770897833"
      ],
      "text/markdown": [
       "32.4567770897833"
      ],
      "text/plain": [
       "[1] 32.45678"
      ]
     },
     "metadata": {},
     "output_type": "display_data"
    },
    {
     "data": {
      "text/html": [
       "66.6"
      ],
      "text/latex": [
       "66.6"
      ],
      "text/markdown": [
       "66.6"
      ],
      "text/plain": [
       "[1] 66.6"
      ]
     },
     "metadata": {},
     "output_type": "display_data"
    },
    {
     "data": {
      "text/html": [
       "12.7375"
      ],
      "text/latex": [
       "12.7375"
      ],
      "text/markdown": [
       "12.7375"
      ],
      "text/plain": [
       "[1] 12.7375"
      ]
     },
     "metadata": {},
     "output_type": "display_data"
    },
    {
     "data": {
      "text/html": [
       "32"
      ],
      "text/latex": [
       "32"
      ],
      "text/markdown": [
       "32"
      ],
      "text/plain": [
       "[1] 32"
      ]
     },
     "metadata": {},
     "output_type": "display_data"
    },
    {
     "data": {
      "text/html": [
       "81.8685222222222"
      ],
      "text/latex": [
       "81.8685222222222"
      ],
      "text/markdown": [
       "81.8685222222222"
      ],
      "text/plain": [
       "[1] 81.86852"
      ]
     },
     "metadata": {},
     "output_type": "display_data"
    },
    {
     "data": {
      "text/plain": [
       "More\n",
       "   0    1 \n",
       "0.25 0.75 "
      ]
     },
     "metadata": {},
     "output_type": "display_data"
    },
    {
     "name": "stdout",
     "output_type": "stream",
     "text": [
      "'data.frame':\t202 obs. of  11 variables:\n",
      " $ PassengerId: int  2 4 7 11 12 22 24 28 32 53 ...\n",
      " $ Survived   : Factor w/ 2 levels \"0\",\"1\": 2 2 1 2 2 2 2 1 2 2 ...\n",
      " $ Pclass     : Factor w/ 3 levels \"1\",\"2\",\"3\": 1 1 1 3 1 2 1 1 1 1 ...\n",
      " $ Sex        : Factor w/ 2 levels \"female\",\"male\": 1 1 2 1 1 2 2 2 1 1 ...\n",
      " $ Age        : num  38 35 54 4 58 ...\n",
      " $ SibSp      : int  1 1 0 1 0 0 0 3 1 1 ...\n",
      " $ Parch      : int  0 0 0 1 0 0 0 2 0 0 ...\n",
      " $ Ticket     : Factor w/ 681 levels \"110152\",\"110413\",..: 597 50 86 617 39 153 43 96 587 588 ...\n",
      " $ Fare       : num  71.3 53.1 51.9 16.7 26.6 ...\n",
      " $ Embarked   : Factor w/ 4 levels \"\",\"C\",\"Q\",\"S\": 2 4 4 4 4 4 4 4 2 2 ...\n",
      " $ sfare      : num  70.3 52.1 50.8 15.7 25.5 ...\n"
     ]
    },
    {
     "data": {},
     "metadata": {},
     "output_type": "display_data"
    },
    {
     "data": {},
     "metadata": {},
     "output_type": "display_data"
    },
    {
     "data": {
      "image/png": "[encoded data removed]",
      "text/plain": [
       "plot without title"
      ]
     },
     "metadata": {},
     "output_type": "display_data",
     "source": "R display func"
    },
    {
     "data": {},
     "metadata": {},
     "output_type": "display_data"
    },
    {
     "data": {
      "image/png": "[encoded data removed]",
      "text/plain": [
       "plot without title"
      ]
     },
     "metadata": {},
     "output_type": "display_data",
     "source": "R display func"
    },
    {
     "name": "stdout",
     "output_type": "stream",
     "text": [
      "'data.frame':\t202 obs. of  12 variables:\n",
      " $ PassengerId: int  2 4 7 11 12 22 24 28 32 53 ...\n",
      " $ Survived   : Factor w/ 2 levels \"0\",\"1\": 2 2 1 2 2 2 2 1 2 2 ...\n",
      " $ Pclass     : Factor w/ 3 levels \"1\",\"2\",\"3\": 1 1 1 3 1 2 1 1 1 1 ...\n",
      " $ Sex        : Factor w/ 2 levels \"female\",\"male\": 1 1 2 1 1 2 2 2 1 1 ...\n",
      " $ Age        : num  38 35 54 4 58 ...\n",
      " $ SibSp      : int  1 1 0 1 0 0 0 3 1 1 ...\n",
      " $ Parch      : int  0 0 0 1 0 0 0 2 0 0 ...\n",
      " $ Ticket     : Factor w/ 681 levels \"110152\",\"110413\",..: 597 50 86 617 39 153 43 96 587 588 ...\n",
      " $ Fare       : num  71.3 53.1 51.9 16.7 26.6 ...\n",
      " $ Embarked   : Factor w/ 4 levels \"\",\"C\",\"Q\",\"S\": 2 4 4 4 4 4 4 4 2 2 ...\n",
      " $ sfare      : num  70.3 52.1 50.8 15.7 25.5 ...\n",
      " $ cfare      : chr  \"Cheap\" \"Cheap\" \"Cheap\" \"Cheap\" ...\n",
      "'data.frame':\t202 obs. of  13 variables:\n",
      " $ PassengerId: int  2 4 7 11 12 22 24 28 32 53 ...\n",
      " $ Survived   : Factor w/ 2 levels \"0\",\"1\": 2 2 1 2 2 2 2 1 2 2 ...\n",
      " $ Pclass     : Factor w/ 3 levels \"1\",\"2\",\"3\": 1 1 1 3 1 2 1 1 1 1 ...\n",
      " $ Sex        : Factor w/ 2 levels \"female\",\"male\": 1 1 2 1 1 2 2 2 1 1 ...\n",
      " $ Age        : num  38 35 54 4 58 ...\n",
      " $ SibSp      : int  1 1 0 1 0 0 0 3 1 1 ...\n",
      " $ Parch      : int  0 0 0 1 0 0 0 2 0 0 ...\n",
      " $ Ticket     : Factor w/ 681 levels \"110152\",\"110413\",..: 597 50 86 617 39 153 43 96 587 588 ...\n",
      " $ Fare       : num  71.3 53.1 51.9 16.7 26.6 ...\n",
      " $ Embarked   : Factor w/ 4 levels \"\",\"C\",\"Q\",\"S\": 2 4 4 4 4 4 4 4 2 2 ...\n",
      " $ sfare      : num  70.3 52.1 50.8 15.7 25.5 ...\n",
      " $ cfare      : chr  \"Cheap\" \"Cheap\" \"Cheap\" \"Cheap\" ...\n",
      " $ cage       : chr  \"3\" \"3\" \"5\" \"0\" ...\n"
     ]
    },
    {
     "data": {},
     "metadata": {},
     "output_type": "display_data"
    },
    {
     "data": {
      "image/png": "[encoded data removed]",
      "text/plain": [
       "plot without title"
      ]
     },
     "metadata": {},
     "output_type": "display_data",
     "source": "R display func"
    },
    {
     "data": {},
     "metadata": {},
     "output_type": "display_data"
    },
    {
     "data": {
      "image/png": "[encoded data removed]",
      "text/plain": [
       "plot without title"
      ]
     },
     "metadata": {},
     "output_type": "display_data",
     "source": "R display func"
    },
    {
     "data": {
      "image/png": "[encoded data removed]",
      "text/plain": [
       "plot without title"
      ]
     },
     "metadata": {},
     "output_type": "display_data",
     "source": "R display func"
    }
   ],
   "source": [
    "df = read.csv(\"C:/Users/student/Desktop/Senior/MATH 421 - R/assignment/train.csv\")\n",
    "#correct data type\n",
    "df$Survived = factor(df$Survived)\n",
    "df$Pclass = factor(df$Pclass)\n",
    "library(ggplot2)\n",
    "\n",
    "sum(is.na(df))\n",
    "\n",
    "#Identify numeric data\n",
    "str(df)\n",
    "\n",
    "sum(is.na(df$PassengerId))\n",
    "sum(is.na(df$Age))\n",
    "sum(is.na(df$SibSp))\n",
    "sum(is.na(df$Parch))\n",
    "sum(is.na(df$Fare))\n",
    "\n",
    "df$Age[is.na(df$Age)] = mean(df$Age, na.rm = TRUE)\n",
    "sum(is.na(df$Age))\n",
    "\n",
    "sum(is.na(df$Survived))\n",
    "sum(is.na(df$Pclass))\n",
    "sum(is.na(df$Name))\n",
    "sum(is.na(df$Sex))\n",
    "sum(is.na(df$Ticket))\n",
    "sum(is.na(df$Cabin))\n",
    "sum(is.na(df$Embarked))\n",
    "#the result shows that there is no missing value in any of the categorical variable, but I opened the data set in excel and realized there are some blanks in category 'Cabin'  \n",
    "sum((df$Cabin == \"\")|(df$Cabin == \" \"))  #check to see if these missing value are recorded as \"\"\n",
    "sum(df$Embarked != 'S' & df$Embarked != 'C' & df$Embarked !='Q') #check missing in Embarked\n",
    "#remove rows, I created a new dataset called df1 here\n",
    "df1 = df[!df$Cabin ==\"\" & !df$Embarked == \"\", ]\n",
    "str(df1)\n",
    "\n",
    "df1$Name = NULL\n",
    "df1$PassengerID = NULL\n",
    "#since there are missing values and there are 148 levels in variable Cabin, I decided to drop this variable as well\n",
    "df1$Cabin = NULL\n",
    "str(df1)\n",
    "\n",
    "mean(df1$Age)\n",
    "\n",
    "mean(df1[df1$Sex=='female', ]$Age)\n",
    "\n",
    "median(df1[df1$Pclass=='1', ]$Fare)\n",
    "\n",
    "median(df1[(df1$Pclass != '1') & (df1$Sex == 'female'), ]$Fare)\n",
    "\n",
    "median(df1[(df1$Survived=='1') & (df1$Sex =='female') & (df1$Pclass != '3'), ]$Age)\n",
    "\n",
    "mean(df1[(df1$Sex =='female') & (df1$Age < 18) & (df1$Survived == '1'), ]$Fare)\n",
    "\n",
    "survive = c(mean(df1[(df1$Sex =='female') & (df1$Age < 18) & (df1$Survived == '1') & (df1$Pclass =='1'), ]$Fare),\n",
    "            mean(df1[(df1$Sex =='female') & (df1$Age < 18) & (df1$Survived == '1') & (df1$Pclass =='2'), ]$Fare),\n",
    "            mean(df1[(df1$Sex =='female') & (df1$Age < 18) & (df1$Survived == '1') & (df1$Pclass =='3'), ]$Fare))\n",
    "names(survive) = c(\"Frist Class\", \"Second Class\", \"Third Class\")\n",
    "\n",
    "More = df1[df1$Fare > mean(df1$Fare), ]$Survived\n",
    "\n",
    "prop.table(table(More))\n",
    "\n",
    "df1$sfare = df1$Fare - (mean(df1$Fare)/sd(df1$Fare))\n",
    "str(df1)\n",
    "\n",
    "theme_update(plot.title = element_text(hjust = 0.5))  #change the theme setting so my title is in the middle\n",
    "ggplot(df1[df1$Age<mean(df1$Age), ] ) + geom_bar(mapping = aes (x= Sex, fill = Survived), position = 'dodge') +ggtitle(\"Passangers younger than average age\")\n",
    "\n",
    "ggplot(df1[(df1$Survived =='1') & (df1$Fare > mean(df1$Fare)), ]) + geom_density(mapping = aes(x = Age)) + ggtitle(\"Passangers survived and paied more than average fare density funtion \")\n",
    "\n",
    "ggplot(df1[(df1$Embarked ==\"S\") | (df1$Embarked == \"Q\"), ]) + geom_density(mapping = aes(x= Age, color = Embarked))\n",
    "\n",
    "df1$cfare = ifelse(df1$Fare > mean(df1$Fare), c(\"Expensive\"), c(\"Cheap\"))\n",
    "str(df1)\n",
    "\n",
    "attach(df1)\n",
    "df1$cage[df1$Age <= 10] = \"0\"\n",
    "df1$cage[df1$Age > 10 & df1$Age <= 20] = \"1\"\n",
    "df1$cage[df1$Age > 20 & df1$Age <= 30] = \"2\"\n",
    "df1$cage[df1$Age > 30 & df1$Age <= 40] = \"3\"\n",
    "df1$cage[df1$Age > 40 & df1$Age <= 50] = \"4\"\n",
    "df1$cage[df1$Age > 50 & df1$Age <= 60] = \"5\"\n",
    "df1$cage[df1$Age > 60] = \"6\"\n",
    "detach(df1)\n",
    "str(df1)\n",
    "\n",
    "ggplot(df1[df1$cfare == \"Expensive\", ]) + geom_bar(mapping = aes(x = cage, fill = Survived), position = 'dodge')\n",
    "\n",
    "ggplot(df1[df1$cfare == \"Expensive\", ]) + geom_bar(mapping = aes(x = cage, fill = Survived), position = 'dodge') + \n",
    " facet_wrap(~ Pclass)\n",
    "\n"
   ]
  },
  {
   "cell_type": "code",
   "execution_count": null,
   "metadata": {},
   "outputs": [],
   "source": []
  }
 ],
 "metadata": {
  "kernelspec": {
   "display_name": "R",
   "language": "R",
   "name": "ir"
  },
  "language_info": {
   "codemirror_mode": "r",
   "file_extension": ".r",
   "mimetype": "text/x-r-source",
   "name": "R",
   "pygments_lexer": "r",
   "version": "3.5.1"
  }
 },
 "nbformat": 4,
 "nbformat_minor": 2
}
